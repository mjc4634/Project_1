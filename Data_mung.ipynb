{
 "cells": [
  {
   "cell_type": "code",
   "execution_count": 12,
   "metadata": {},
   "outputs": [],
   "source": [
    "import pandas as pd\n",
    "import os \n",
    "from matplotlib import pyplot as plt\n",
    "import numpy as np\n",
    "#import plotly.plotly as py\n",
    "#import plotly.graph_objs as go\n",
    "#import plotly.tools as tls\n",
    "import seaborn as sns\n",
    "\n",
    "\n",
    "\n",
    "#Decide what columns we need\n",
    "A_csv = pd.read_csv('xaa.csv')\n",
    "B_csv = pd.read_csv('xab.csv', header=None)\n",
    "C_csv = pd.read_csv('xac.csv', header=None)\n",
    "D_csv = pd.read_csv('xad.csv', header=None)\n",
    "#Add correct index to split csv\n",
    "B_csv.columns = A_csv.columns\n",
    "C_csv.columns = A_csv.columns\n",
    "D_csv.columns = A_csv.columns\n",
    "#Merging\n",
    "AB_csv = pd.merge(A_csv, B_csv,how='outer')\n",
    "\n",
    "ABC_csv = pd.merge(AB_csv, C_csv,how='outer')\n",
    "\n",
    "ABCD_csv = pd.merge(ABC_csv, D_csv,how='outer')\n",
    "\n",
    "master_df = ABCD_csv"
   ]
  },
  {
   "cell_type": "code",
   "execution_count": 13,
   "metadata": {},
   "outputs": [],
   "source": [
    "#Function to change GeoLoc value\n",
    "def geo_switch(geo):\n",
    "    try:\n",
    "        [lat, long] = str(geo[0])[1:-1].split(',')\n",
    "    except TypeError:\n",
    "        [lat, long] = ['NaN', 'NaN']\n",
    "    except ValueError:\n",
    "        [lat, long] = str(geo)[1:-1].split(',')\n",
    "    \n",
    "    \n",
    "    return [lat, long]"
   ]
  },
  {
   "cell_type": "code",
   "execution_count": 14,
   "metadata": {},
   "outputs": [],
   "source": [
    "#change the master_df using apply\n",
    "master_df['GeoLocation'] = master_df['GeoLocation'].apply(lambda x: geo_switch(x))\n"
   ]
  },
  {
   "cell_type": "code",
   "execution_count": 15,
   "metadata": {
    "scrolled": false
   },
   "outputs": [
    {
     "data": {
      "text/plain": [
       "(14000, 13)"
      ]
     },
     "execution_count": 15,
     "metadata": {},
     "output_type": "execute_result"
    }
   ],
   "source": [
    "#Dropping the US lines Values\n",
    "master_df = master_df.dropna(subset=['CityName', 'GeoLocation'])\n",
    "\n",
    "#Dropping the \"CrdPrv\" lines\n",
    "master_df = master_df[master_df.DataValueTypeID != \"CrdPrv\"]\n",
    "master_df.shape"
   ]
  },
  {
   "cell_type": "code",
   "execution_count": 16,
   "metadata": {},
   "outputs": [
    {
     "data": {
      "text/plain": [
       "(14000, 14)"
      ]
     },
     "execution_count": 16,
     "metadata": {},
     "output_type": "execute_result"
    }
   ],
   "source": [
    "master_df = master_df.assign(Measure_pop = master_df['Data_Value'] / 100 * master_df['PopulationCount'])\n",
    "master_df['Measure_pop'] = master_df['Measure_pop'].fillna(0).astype(int)\n",
    "master_df.shape"
   ]
  },
  {
   "cell_type": "code",
   "execution_count": 17,
   "metadata": {},
   "outputs": [],
   "source": [
    "#unique list of categories and states\n",
    "cat_id = master_df['Category'].unique()\n",
    "states = master_df['StateAbbr'].unique()\n",
    "#dictionary to hold your data\n",
    "df_dict = {}\n",
    "\n",
    "#index through to grab dataframe for each category\n",
    "for category in cat_id:\n",
    "    category_group = master_df[master_df['Category'] == category]\n",
    "#get category info for each state        \n",
    "    for state in states:\n",
    "        state_group =  category_group[category_group['StateAbbr'] == state]\n",
    "#create keys for the df_dict and values for each state\n",
    "        df_dict[category+' '+ state] = state_group\n"
   ]
  },
  {
   "cell_type": "code",
   "execution_count": 18,
   "metadata": {},
   "outputs": [],
   "source": [
    "#Prevention dictionary for all states\n",
    "prevent_state_df = pd.DataFrame()\n",
    "prevent_dict = {}\n",
    "for state in states:\n",
    "#make keys the state abbr\n",
    "    prevent_dict[state] = (df_dict.get('Prevention'+' '+state))\n",
    "    prevent_state_df = prevent_state_df.append(prevent_dict[state])\n"
   ]
  },
  {
   "cell_type": "code",
   "execution_count": 19,
   "metadata": {},
   "outputs": [
    {
     "data": {
      "text/html": [
       "<div>\n",
       "<style scoped>\n",
       "    .dataframe tbody tr th:only-of-type {\n",
       "        vertical-align: middle;\n",
       "    }\n",
       "\n",
       "    .dataframe tbody tr th {\n",
       "        vertical-align: top;\n",
       "    }\n",
       "\n",
       "    .dataframe thead th {\n",
       "        text-align: right;\n",
       "    }\n",
       "</style>\n",
       "<table border=\"1\" class=\"dataframe\">\n",
       "  <thead>\n",
       "    <tr style=\"text-align: right;\">\n",
       "      <th></th>\n",
       "      <th>Year</th>\n",
       "      <th>StateAbbr</th>\n",
       "      <th>CityName</th>\n",
       "      <th>GeographicLevel</th>\n",
       "      <th>Category</th>\n",
       "      <th>Measure</th>\n",
       "      <th>DataValueTypeID</th>\n",
       "      <th>Data_Value_Type</th>\n",
       "      <th>Data_Value</th>\n",
       "      <th>PopulationCount</th>\n",
       "      <th>GeoLocation</th>\n",
       "      <th>CategoryID</th>\n",
       "      <th>MeasureId</th>\n",
       "      <th>Measure_pop</th>\n",
       "    </tr>\n",
       "  </thead>\n",
       "  <tbody>\n",
       "    <tr>\n",
       "      <th>256</th>\n",
       "      <td>2016</td>\n",
       "      <td>AL</td>\n",
       "      <td>Birmingham</td>\n",
       "      <td>City</td>\n",
       "      <td>Unhealthy Behaviors</td>\n",
       "      <td>Binge drinking among adults aged &gt;=18 Years</td>\n",
       "      <td>AgeAdjPrv</td>\n",
       "      <td>Age-adjusted prevalence</td>\n",
       "      <td>13.0</td>\n",
       "      <td>212237</td>\n",
       "      <td>[33.5275663773,  -86.7988174678]</td>\n",
       "      <td>UNHBEH</td>\n",
       "      <td>BINGE</td>\n",
       "      <td>27590</td>\n",
       "    </tr>\n",
       "    <tr>\n",
       "      <th>1460</th>\n",
       "      <td>2016</td>\n",
       "      <td>AL</td>\n",
       "      <td>Birmingham</td>\n",
       "      <td>City</td>\n",
       "      <td>Unhealthy Behaviors</td>\n",
       "      <td>Current smoking among adults aged &gt;=18 Years</td>\n",
       "      <td>AgeAdjPrv</td>\n",
       "      <td>Age-adjusted prevalence</td>\n",
       "      <td>22.6</td>\n",
       "      <td>212237</td>\n",
       "      <td>[33.5275663773,  -86.7988174678]</td>\n",
       "      <td>UNHBEH</td>\n",
       "      <td>CSMOKING</td>\n",
       "      <td>47965</td>\n",
       "    </tr>\n",
       "    <tr>\n",
       "      <th>1958</th>\n",
       "      <td>2016</td>\n",
       "      <td>AL</td>\n",
       "      <td>Birmingham</td>\n",
       "      <td>City</td>\n",
       "      <td>Unhealthy Behaviors</td>\n",
       "      <td>No leisure-time physical activity among adults...</td>\n",
       "      <td>AgeAdjPrv</td>\n",
       "      <td>Age-adjusted prevalence</td>\n",
       "      <td>35.8</td>\n",
       "      <td>212237</td>\n",
       "      <td>[33.5275663773,  -86.7988174678]</td>\n",
       "      <td>UNHBEH</td>\n",
       "      <td>LPA</td>\n",
       "      <td>75980</td>\n",
       "    </tr>\n",
       "    <tr>\n",
       "      <th>2258</th>\n",
       "      <td>2016</td>\n",
       "      <td>AL</td>\n",
       "      <td>Birmingham</td>\n",
       "      <td>City</td>\n",
       "      <td>Unhealthy Behaviors</td>\n",
       "      <td>Obesity among adults aged &gt;=18 Years</td>\n",
       "      <td>AgeAdjPrv</td>\n",
       "      <td>Age-adjusted prevalence</td>\n",
       "      <td>42.6</td>\n",
       "      <td>212237</td>\n",
       "      <td>[33.5275663773,  -86.7988174678]</td>\n",
       "      <td>UNHBEH</td>\n",
       "      <td>OBESITY</td>\n",
       "      <td>90412</td>\n",
       "    </tr>\n",
       "    <tr>\n",
       "      <th>2554</th>\n",
       "      <td>2016</td>\n",
       "      <td>AL</td>\n",
       "      <td>Birmingham</td>\n",
       "      <td>City</td>\n",
       "      <td>Unhealthy Behaviors</td>\n",
       "      <td>Sleeping less than 7 hours among adults aged &gt;...</td>\n",
       "      <td>AgeAdjPrv</td>\n",
       "      <td>Age-adjusted prevalence</td>\n",
       "      <td>41.8</td>\n",
       "      <td>212237</td>\n",
       "      <td>[33.5275663773,  -86.7988174678]</td>\n",
       "      <td>UNHBEH</td>\n",
       "      <td>SLEEP</td>\n",
       "      <td>88715</td>\n",
       "    </tr>\n",
       "    <tr>\n",
       "      <th>2913</th>\n",
       "      <td>2016</td>\n",
       "      <td>AL</td>\n",
       "      <td>Hoover</td>\n",
       "      <td>City</td>\n",
       "      <td>Unhealthy Behaviors</td>\n",
       "      <td>Binge drinking among adults aged &gt;=18 Years</td>\n",
       "      <td>AgeAdjPrv</td>\n",
       "      <td>Age-adjusted prevalence</td>\n",
       "      <td>18.0</td>\n",
       "      <td>81619</td>\n",
       "      <td>[33.3767602729,  -86.8051937568]</td>\n",
       "      <td>UNHBEH</td>\n",
       "      <td>BINGE</td>\n",
       "      <td>14691</td>\n",
       "    </tr>\n",
       "    <tr>\n",
       "      <th>3282</th>\n",
       "      <td>2016</td>\n",
       "      <td>AL</td>\n",
       "      <td>Hoover</td>\n",
       "      <td>City</td>\n",
       "      <td>Unhealthy Behaviors</td>\n",
       "      <td>Current smoking among adults aged &gt;=18 Years</td>\n",
       "      <td>AgeAdjPrv</td>\n",
       "      <td>Age-adjusted prevalence</td>\n",
       "      <td>13.9</td>\n",
       "      <td>81619</td>\n",
       "      <td>[33.3767602729,  -86.8051937568]</td>\n",
       "      <td>UNHBEH</td>\n",
       "      <td>CSMOKING</td>\n",
       "      <td>11345</td>\n",
       "    </tr>\n",
       "    <tr>\n",
       "      <th>3438</th>\n",
       "      <td>2016</td>\n",
       "      <td>AL</td>\n",
       "      <td>Hoover</td>\n",
       "      <td>City</td>\n",
       "      <td>Unhealthy Behaviors</td>\n",
       "      <td>No leisure-time physical activity among adults...</td>\n",
       "      <td>AgeAdjPrv</td>\n",
       "      <td>Age-adjusted prevalence</td>\n",
       "      <td>20.2</td>\n",
       "      <td>81619</td>\n",
       "      <td>[33.3767602729,  -86.8051937568]</td>\n",
       "      <td>UNHBEH</td>\n",
       "      <td>LPA</td>\n",
       "      <td>16487</td>\n",
       "    </tr>\n",
       "    <tr>\n",
       "      <th>3531</th>\n",
       "      <td>2016</td>\n",
       "      <td>AL</td>\n",
       "      <td>Hoover</td>\n",
       "      <td>City</td>\n",
       "      <td>Unhealthy Behaviors</td>\n",
       "      <td>Obesity among adults aged &gt;=18 Years</td>\n",
       "      <td>AgeAdjPrv</td>\n",
       "      <td>Age-adjusted prevalence</td>\n",
       "      <td>28.9</td>\n",
       "      <td>81619</td>\n",
       "      <td>[33.3767602729,  -86.8051937568]</td>\n",
       "      <td>UNHBEH</td>\n",
       "      <td>OBESITY</td>\n",
       "      <td>23587</td>\n",
       "    </tr>\n",
       "    <tr>\n",
       "      <th>3622</th>\n",
       "      <td>2016</td>\n",
       "      <td>AL</td>\n",
       "      <td>Hoover</td>\n",
       "      <td>City</td>\n",
       "      <td>Unhealthy Behaviors</td>\n",
       "      <td>Sleeping less than 7 hours among adults aged &gt;...</td>\n",
       "      <td>AgeAdjPrv</td>\n",
       "      <td>Age-adjusted prevalence</td>\n",
       "      <td>32.8</td>\n",
       "      <td>81619</td>\n",
       "      <td>[33.3767602729,  -86.8051937568]</td>\n",
       "      <td>UNHBEH</td>\n",
       "      <td>SLEEP</td>\n",
       "      <td>26771</td>\n",
       "    </tr>\n",
       "    <tr>\n",
       "      <th>3843</th>\n",
       "      <td>2016</td>\n",
       "      <td>AL</td>\n",
       "      <td>Huntsville</td>\n",
       "      <td>City</td>\n",
       "      <td>Unhealthy Behaviors</td>\n",
       "      <td>Binge drinking among adults aged &gt;=18 Years</td>\n",
       "      <td>AgeAdjPrv</td>\n",
       "      <td>Age-adjusted prevalence</td>\n",
       "      <td>14.3</td>\n",
       "      <td>180105</td>\n",
       "      <td>[34.6989692671,  -86.6387042882]</td>\n",
       "      <td>UNHBEH</td>\n",
       "      <td>BINGE</td>\n",
       "      <td>25755</td>\n",
       "    </tr>\n",
       "    <tr>\n",
       "      <th>4638</th>\n",
       "      <td>2016</td>\n",
       "      <td>AL</td>\n",
       "      <td>Huntsville</td>\n",
       "      <td>City</td>\n",
       "      <td>Unhealthy Behaviors</td>\n",
       "      <td>Current smoking among adults aged &gt;=18 Years</td>\n",
       "      <td>AgeAdjPrv</td>\n",
       "      <td>Age-adjusted prevalence</td>\n",
       "      <td>18.9</td>\n",
       "      <td>180105</td>\n",
       "      <td>[34.6989692671,  -86.6387042882]</td>\n",
       "      <td>UNHBEH</td>\n",
       "      <td>CSMOKING</td>\n",
       "      <td>34039</td>\n",
       "    </tr>\n",
       "    <tr>\n",
       "      <th>4967</th>\n",
       "      <td>2016</td>\n",
       "      <td>AL</td>\n",
       "      <td>Huntsville</td>\n",
       "      <td>City</td>\n",
       "      <td>Unhealthy Behaviors</td>\n",
       "      <td>No leisure-time physical activity among adults...</td>\n",
       "      <td>AgeAdjPrv</td>\n",
       "      <td>Age-adjusted prevalence</td>\n",
       "      <td>25.9</td>\n",
       "      <td>180105</td>\n",
       "      <td>[34.6989692671,  -86.6387042882]</td>\n",
       "      <td>UNHBEH</td>\n",
       "      <td>LPA</td>\n",
       "      <td>46647</td>\n",
       "    </tr>\n",
       "    <tr>\n",
       "      <th>5163</th>\n",
       "      <td>2016</td>\n",
       "      <td>AL</td>\n",
       "      <td>Huntsville</td>\n",
       "      <td>City</td>\n",
       "      <td>Unhealthy Behaviors</td>\n",
       "      <td>Obesity among adults aged &gt;=18 Years</td>\n",
       "      <td>AgeAdjPrv</td>\n",
       "      <td>Age-adjusted prevalence</td>\n",
       "      <td>33.3</td>\n",
       "      <td>180105</td>\n",
       "      <td>[34.6989692671,  -86.6387042882]</td>\n",
       "      <td>UNHBEH</td>\n",
       "      <td>OBESITY</td>\n",
       "      <td>59974</td>\n",
       "    </tr>\n",
       "    <tr>\n",
       "      <th>5353</th>\n",
       "      <td>2016</td>\n",
       "      <td>AL</td>\n",
       "      <td>Huntsville</td>\n",
       "      <td>City</td>\n",
       "      <td>Unhealthy Behaviors</td>\n",
       "      <td>Sleeping less than 7 hours among adults aged &gt;...</td>\n",
       "      <td>AgeAdjPrv</td>\n",
       "      <td>Age-adjusted prevalence</td>\n",
       "      <td>38.3</td>\n",
       "      <td>180105</td>\n",
       "      <td>[34.6989692671,  -86.6387042882]</td>\n",
       "      <td>UNHBEH</td>\n",
       "      <td>SLEEP</td>\n",
       "      <td>68980</td>\n",
       "    </tr>\n",
       "    <tr>\n",
       "      <th>5709</th>\n",
       "      <td>2016</td>\n",
       "      <td>AL</td>\n",
       "      <td>Mobile</td>\n",
       "      <td>City</td>\n",
       "      <td>Unhealthy Behaviors</td>\n",
       "      <td>Binge drinking among adults aged &gt;=18 Years</td>\n",
       "      <td>AgeAdjPrv</td>\n",
       "      <td>Age-adjusted prevalence</td>\n",
       "      <td>15.0</td>\n",
       "      <td>195111</td>\n",
       "      <td>[30.6776248648,  -88.1184482714]</td>\n",
       "      <td>UNHBEH</td>\n",
       "      <td>BINGE</td>\n",
       "      <td>29266</td>\n",
       "    </tr>\n",
       "    <tr>\n",
       "      <th>6665</th>\n",
       "      <td>2016</td>\n",
       "      <td>AL</td>\n",
       "      <td>Mobile</td>\n",
       "      <td>City</td>\n",
       "      <td>Unhealthy Behaviors</td>\n",
       "      <td>Current smoking among adults aged &gt;=18 Years</td>\n",
       "      <td>AgeAdjPrv</td>\n",
       "      <td>Age-adjusted prevalence</td>\n",
       "      <td>20.7</td>\n",
       "      <td>195111</td>\n",
       "      <td>[30.6776248648,  -88.1184482714]</td>\n",
       "      <td>UNHBEH</td>\n",
       "      <td>CSMOKING</td>\n",
       "      <td>40387</td>\n",
       "    </tr>\n",
       "    <tr>\n",
       "      <th>7067</th>\n",
       "      <td>2016</td>\n",
       "      <td>AL</td>\n",
       "      <td>Mobile</td>\n",
       "      <td>City</td>\n",
       "      <td>Unhealthy Behaviors</td>\n",
       "      <td>No leisure-time physical activity among adults...</td>\n",
       "      <td>AgeAdjPrv</td>\n",
       "      <td>Age-adjusted prevalence</td>\n",
       "      <td>29.3</td>\n",
       "      <td>195111</td>\n",
       "      <td>[30.6776248648,  -88.1184482714]</td>\n",
       "      <td>UNHBEH</td>\n",
       "      <td>LPA</td>\n",
       "      <td>57167</td>\n",
       "    </tr>\n",
       "    <tr>\n",
       "      <th>7306</th>\n",
       "      <td>2016</td>\n",
       "      <td>AL</td>\n",
       "      <td>Mobile</td>\n",
       "      <td>City</td>\n",
       "      <td>Unhealthy Behaviors</td>\n",
       "      <td>Obesity among adults aged &gt;=18 Years</td>\n",
       "      <td>AgeAdjPrv</td>\n",
       "      <td>Age-adjusted prevalence</td>\n",
       "      <td>39.7</td>\n",
       "      <td>195111</td>\n",
       "      <td>[30.6776248648,  -88.1184482714]</td>\n",
       "      <td>UNHBEH</td>\n",
       "      <td>OBESITY</td>\n",
       "      <td>77459</td>\n",
       "    </tr>\n",
       "    <tr>\n",
       "      <th>7542</th>\n",
       "      <td>2016</td>\n",
       "      <td>AL</td>\n",
       "      <td>Mobile</td>\n",
       "      <td>City</td>\n",
       "      <td>Unhealthy Behaviors</td>\n",
       "      <td>Sleeping less than 7 hours among adults aged &gt;...</td>\n",
       "      <td>AgeAdjPrv</td>\n",
       "      <td>Age-adjusted prevalence</td>\n",
       "      <td>39.7</td>\n",
       "      <td>195111</td>\n",
       "      <td>[30.6776248648,  -88.1184482714]</td>\n",
       "      <td>UNHBEH</td>\n",
       "      <td>SLEEP</td>\n",
       "      <td>77459</td>\n",
       "    </tr>\n",
       "  </tbody>\n",
       "</table>\n",
       "</div>"
      ],
      "text/plain": [
       "      Year StateAbbr    CityName GeographicLevel             Category  \\\n",
       "256   2016        AL  Birmingham            City  Unhealthy Behaviors   \n",
       "1460  2016        AL  Birmingham            City  Unhealthy Behaviors   \n",
       "1958  2016        AL  Birmingham            City  Unhealthy Behaviors   \n",
       "2258  2016        AL  Birmingham            City  Unhealthy Behaviors   \n",
       "2554  2016        AL  Birmingham            City  Unhealthy Behaviors   \n",
       "2913  2016        AL      Hoover            City  Unhealthy Behaviors   \n",
       "3282  2016        AL      Hoover            City  Unhealthy Behaviors   \n",
       "3438  2016        AL      Hoover            City  Unhealthy Behaviors   \n",
       "3531  2016        AL      Hoover            City  Unhealthy Behaviors   \n",
       "3622  2016        AL      Hoover            City  Unhealthy Behaviors   \n",
       "3843  2016        AL  Huntsville            City  Unhealthy Behaviors   \n",
       "4638  2016        AL  Huntsville            City  Unhealthy Behaviors   \n",
       "4967  2016        AL  Huntsville            City  Unhealthy Behaviors   \n",
       "5163  2016        AL  Huntsville            City  Unhealthy Behaviors   \n",
       "5353  2016        AL  Huntsville            City  Unhealthy Behaviors   \n",
       "5709  2016        AL      Mobile            City  Unhealthy Behaviors   \n",
       "6665  2016        AL      Mobile            City  Unhealthy Behaviors   \n",
       "7067  2016        AL      Mobile            City  Unhealthy Behaviors   \n",
       "7306  2016        AL      Mobile            City  Unhealthy Behaviors   \n",
       "7542  2016        AL      Mobile            City  Unhealthy Behaviors   \n",
       "\n",
       "                                                Measure DataValueTypeID  \\\n",
       "256         Binge drinking among adults aged >=18 Years       AgeAdjPrv   \n",
       "1460       Current smoking among adults aged >=18 Years       AgeAdjPrv   \n",
       "1958  No leisure-time physical activity among adults...       AgeAdjPrv   \n",
       "2258               Obesity among adults aged >=18 Years       AgeAdjPrv   \n",
       "2554  Sleeping less than 7 hours among adults aged >...       AgeAdjPrv   \n",
       "2913        Binge drinking among adults aged >=18 Years       AgeAdjPrv   \n",
       "3282       Current smoking among adults aged >=18 Years       AgeAdjPrv   \n",
       "3438  No leisure-time physical activity among adults...       AgeAdjPrv   \n",
       "3531               Obesity among adults aged >=18 Years       AgeAdjPrv   \n",
       "3622  Sleeping less than 7 hours among adults aged >...       AgeAdjPrv   \n",
       "3843        Binge drinking among adults aged >=18 Years       AgeAdjPrv   \n",
       "4638       Current smoking among adults aged >=18 Years       AgeAdjPrv   \n",
       "4967  No leisure-time physical activity among adults...       AgeAdjPrv   \n",
       "5163               Obesity among adults aged >=18 Years       AgeAdjPrv   \n",
       "5353  Sleeping less than 7 hours among adults aged >...       AgeAdjPrv   \n",
       "5709        Binge drinking among adults aged >=18 Years       AgeAdjPrv   \n",
       "6665       Current smoking among adults aged >=18 Years       AgeAdjPrv   \n",
       "7067  No leisure-time physical activity among adults...       AgeAdjPrv   \n",
       "7306               Obesity among adults aged >=18 Years       AgeAdjPrv   \n",
       "7542  Sleeping less than 7 hours among adults aged >...       AgeAdjPrv   \n",
       "\n",
       "              Data_Value_Type  Data_Value  PopulationCount  \\\n",
       "256   Age-adjusted prevalence        13.0           212237   \n",
       "1460  Age-adjusted prevalence        22.6           212237   \n",
       "1958  Age-adjusted prevalence        35.8           212237   \n",
       "2258  Age-adjusted prevalence        42.6           212237   \n",
       "2554  Age-adjusted prevalence        41.8           212237   \n",
       "2913  Age-adjusted prevalence        18.0            81619   \n",
       "3282  Age-adjusted prevalence        13.9            81619   \n",
       "3438  Age-adjusted prevalence        20.2            81619   \n",
       "3531  Age-adjusted prevalence        28.9            81619   \n",
       "3622  Age-adjusted prevalence        32.8            81619   \n",
       "3843  Age-adjusted prevalence        14.3           180105   \n",
       "4638  Age-adjusted prevalence        18.9           180105   \n",
       "4967  Age-adjusted prevalence        25.9           180105   \n",
       "5163  Age-adjusted prevalence        33.3           180105   \n",
       "5353  Age-adjusted prevalence        38.3           180105   \n",
       "5709  Age-adjusted prevalence        15.0           195111   \n",
       "6665  Age-adjusted prevalence        20.7           195111   \n",
       "7067  Age-adjusted prevalence        29.3           195111   \n",
       "7306  Age-adjusted prevalence        39.7           195111   \n",
       "7542  Age-adjusted prevalence        39.7           195111   \n",
       "\n",
       "                           GeoLocation CategoryID MeasureId  Measure_pop  \n",
       "256   [33.5275663773,  -86.7988174678]     UNHBEH     BINGE        27590  \n",
       "1460  [33.5275663773,  -86.7988174678]     UNHBEH  CSMOKING        47965  \n",
       "1958  [33.5275663773,  -86.7988174678]     UNHBEH       LPA        75980  \n",
       "2258  [33.5275663773,  -86.7988174678]     UNHBEH   OBESITY        90412  \n",
       "2554  [33.5275663773,  -86.7988174678]     UNHBEH     SLEEP        88715  \n",
       "2913  [33.3767602729,  -86.8051937568]     UNHBEH     BINGE        14691  \n",
       "3282  [33.3767602729,  -86.8051937568]     UNHBEH  CSMOKING        11345  \n",
       "3438  [33.3767602729,  -86.8051937568]     UNHBEH       LPA        16487  \n",
       "3531  [33.3767602729,  -86.8051937568]     UNHBEH   OBESITY        23587  \n",
       "3622  [33.3767602729,  -86.8051937568]     UNHBEH     SLEEP        26771  \n",
       "3843  [34.6989692671,  -86.6387042882]     UNHBEH     BINGE        25755  \n",
       "4638  [34.6989692671,  -86.6387042882]     UNHBEH  CSMOKING        34039  \n",
       "4967  [34.6989692671,  -86.6387042882]     UNHBEH       LPA        46647  \n",
       "5163  [34.6989692671,  -86.6387042882]     UNHBEH   OBESITY        59974  \n",
       "5353  [34.6989692671,  -86.6387042882]     UNHBEH     SLEEP        68980  \n",
       "5709  [30.6776248648,  -88.1184482714]     UNHBEH     BINGE        29266  \n",
       "6665  [30.6776248648,  -88.1184482714]     UNHBEH  CSMOKING        40387  \n",
       "7067  [30.6776248648,  -88.1184482714]     UNHBEH       LPA        57167  \n",
       "7306  [30.6776248648,  -88.1184482714]     UNHBEH   OBESITY        77459  \n",
       "7542  [30.6776248648,  -88.1184482714]     UNHBEH     SLEEP        77459  "
      ]
     },
     "execution_count": 19,
     "metadata": {},
     "output_type": "execute_result"
    }
   ],
   "source": [
    "#Unhealthy DateFrame for all states\n",
    "unhealthy_state_df = pd.DataFrame()\n",
    "#Unhealthy dictionary for all states\n",
    "unhealthy_dict = {}\n",
    "for state in states: \n",
    "#make keys the state abbr\n",
    "    unhealthy_dict[state] = (df_dict.get('Unhealthy Behaviors'+' '+state))\n",
    "    unhealthy_state_df = unhealthy_state_df.append(unhealthy_dict[state])\n",
    "unhealthy_state_df.head(20)"
   ]
  },
  {
   "cell_type": "code",
   "execution_count": 20,
   "metadata": {},
   "outputs": [],
   "source": [
    "#Outcomes dictionary for all states\n",
    "outcomes_state_df = pd.DataFrame()\n",
    "outcomes_dict = {}\n",
    "\n",
    "for state in states:\n",
    "#make keys the state abbr\n",
    "    outcomes_dict[state] = (df_dict.get('Health Outcomes'+' '+state))\n",
    "    outcomes_state_df = outcomes_state_df.append(outcomes_dict[state])\n",
    "\n"
   ]
  },
  {
   "cell_type": "code",
   "execution_count": 21,
   "metadata": {},
   "outputs": [],
   "source": [
    "def get_data(category_df):\n",
    "    group_df = category_df.groupby(['StateAbbr', 'MeasureId']).sum()\n",
    "    group_df = group_df.assign(true_st_percent = group_df['Measure_pop'] / group_df['PopulationCount']*100)\n",
    "    group_df = group_df.drop(columns=['Data_Value', 'Year']).reset_index()\n",
    "    return group_df"
   ]
  },
  {
   "cell_type": "code",
   "execution_count": 22,
   "metadata": {},
   "outputs": [
    {
     "data": {
      "text/html": [
       "<div>\n",
       "<style scoped>\n",
       "    .dataframe tbody tr th:only-of-type {\n",
       "        vertical-align: middle;\n",
       "    }\n",
       "\n",
       "    .dataframe tbody tr th {\n",
       "        vertical-align: top;\n",
       "    }\n",
       "\n",
       "    .dataframe thead th {\n",
       "        text-align: right;\n",
       "    }\n",
       "</style>\n",
       "<table border=\"1\" class=\"dataframe\">\n",
       "  <thead>\n",
       "    <tr style=\"text-align: right;\">\n",
       "      <th></th>\n",
       "      <th>StateAbbr</th>\n",
       "      <th>MeasureId</th>\n",
       "      <th>PopulationCount</th>\n",
       "      <th>Measure_pop</th>\n",
       "      <th>true_st_percent</th>\n",
       "    </tr>\n",
       "  </thead>\n",
       "  <tbody>\n",
       "    <tr>\n",
       "      <th>0</th>\n",
       "      <td>AK</td>\n",
       "      <td>ACCESS2</td>\n",
       "      <td>291826</td>\n",
       "      <td>36770</td>\n",
       "      <td>12.599974</td>\n",
       "    </tr>\n",
       "    <tr>\n",
       "      <th>1</th>\n",
       "      <td>AK</td>\n",
       "      <td>BPMED</td>\n",
       "      <td>291826</td>\n",
       "      <td>147663</td>\n",
       "      <td>50.599672</td>\n",
       "    </tr>\n",
       "    <tr>\n",
       "      <th>2</th>\n",
       "      <td>AK</td>\n",
       "      <td>CHECKUP</td>\n",
       "      <td>291826</td>\n",
       "      <td>171593</td>\n",
       "      <td>58.799764</td>\n",
       "    </tr>\n",
       "    <tr>\n",
       "      <th>3</th>\n",
       "      <td>AK</td>\n",
       "      <td>CHOLSCREEN</td>\n",
       "      <td>291826</td>\n",
       "      <td>206612</td>\n",
       "      <td>70.799723</td>\n",
       "    </tr>\n",
       "    <tr>\n",
       "      <th>4</th>\n",
       "      <td>AK</td>\n",
       "      <td>COLON_SCREEN</td>\n",
       "      <td>291826</td>\n",
       "      <td>186184</td>\n",
       "      <td>63.799661</td>\n",
       "    </tr>\n",
       "  </tbody>\n",
       "</table>\n",
       "</div>"
      ],
      "text/plain": [
       "  StateAbbr     MeasureId  PopulationCount  Measure_pop  true_st_percent\n",
       "0        AK       ACCESS2           291826        36770        12.599974\n",
       "1        AK         BPMED           291826       147663        50.599672\n",
       "2        AK       CHECKUP           291826       171593        58.799764\n",
       "3        AK    CHOLSCREEN           291826       206612        70.799723\n",
       "4        AK  COLON_SCREEN           291826       186184        63.799661"
      ]
     },
     "execution_count": 22,
     "metadata": {},
     "output_type": "execute_result"
    }
   ],
   "source": [
    "prevent_percent = get_data(prevent_state_df)\n",
    "unhealthy_percent = get_data(unhealthy_state_df)\n",
    "outcomes_percent = get_data(outcomes_state_df)\n",
    "prevent_percent.head()"
   ]
  },
  {
   "cell_type": "code",
   "execution_count": 23,
   "metadata": {},
   "outputs": [
    {
     "name": "stderr",
     "output_type": "stream",
     "text": [
      "C:\\Users\\dougf\\Anaconda3\\lib\\site-packages\\ipykernel_launcher.py:3: SettingWithCopyWarning: \n",
      "A value is trying to be set on a copy of a slice from a DataFrame.\n",
      "Try using .loc[row_indexer,col_indexer] = value instead\n",
      "\n",
      "See the caveats in the documentation: http://pandas.pydata.org/pandas-docs/stable/indexing.html#indexing-view-versus-copy\n",
      "  This is separate from the ipykernel package so we can avoid doing imports until\n"
     ]
    }
   ],
   "source": [
    "binge = unhealthy_percent[unhealthy_percent['MeasureId'] == 'BINGE']\n",
    "#binge.sort_values(by=['true_st_percent'], ascending=False).reset_index(drop=True)\n",
    "binge['Rank'] = binge['true_st_percent'].rank(ascending=False)"
   ]
  },
  {
   "cell_type": "code",
   "execution_count": 24,
   "metadata": {},
   "outputs": [],
   "source": [
    "#get ranks for each measureId \n",
    "def measure_rank(category_df):\n",
    "    new_df = pd.DataFrame()\n",
    "    measures = category_df['MeasureId'].unique()\n",
    "    \n",
    "    for measure in measures:\n",
    "        measure_type = category_df[category_df['MeasureId'] == measure]\n",
    "        measure_type['Rank'] = measure_type['true_st_percent'].rank(ascending=False)\n",
    "        new_df = new_df.append(measure_type)\n",
    "        \n",
    "\n",
    "\n",
    "\n",
    "\n",
    "    return new_df"
   ]
  },
  {
   "cell_type": "code",
   "execution_count": 25,
   "metadata": {},
   "outputs": [
    {
     "name": "stderr",
     "output_type": "stream",
     "text": [
      "C:\\Users\\dougf\\Anaconda3\\lib\\site-packages\\ipykernel_launcher.py:8: SettingWithCopyWarning: \n",
      "A value is trying to be set on a copy of a slice from a DataFrame.\n",
      "Try using .loc[row_indexer,col_indexer] = value instead\n",
      "\n",
      "See the caveats in the documentation: http://pandas.pydata.org/pandas-docs/stable/indexing.html#indexing-view-versus-copy\n",
      "  \n"
     ]
    }
   ],
   "source": [
    "prevent_measure_rank = measure_rank(prevent_percent)\n",
    "unhealthy_measure_rank = measure_rank(unhealthy_percent)\n",
    "outcomes_measure_rank = measure_rank(outcomes_percent)\n"
   ]
  },
  {
   "cell_type": "code",
   "execution_count": 26,
   "metadata": {},
   "outputs": [],
   "source": [
    "#get mean of ranks for each state\n",
    "def avg_rank(measure_rank_df):\n",
    "    rank_df = pd.DataFrame(index= states, columns=['Measure Rank'])\n",
    "    for state in states:\n",
    "        measure_avg = int((measure_rank_df[measure_rank_df['StateAbbr'] == state]['Rank']).mean())\n",
    "        rank_df.loc[state, 'Measure Rank'] = measure_avg\n",
    "    \n",
    "    return rank_df.sort_values(by=['Measure Rank']).reset_index().rename(columns={'index': 'State'})"
   ]
  },
  {
   "cell_type": "code",
   "execution_count": 27,
   "metadata": {},
   "outputs": [],
   "source": [
    "prevent_rank = avg_rank(prevent_measure_rank)\n",
    "unhealthy_rank = avg_rank(unhealthy_measure_rank)\n",
    "outcomes_rank = avg_rank(outcomes_measure_rank)"
   ]
  },
  {
   "cell_type": "code",
   "execution_count": 28,
   "metadata": {},
   "outputs": [
    {
     "data": {
      "text/html": [
       "<div>\n",
       "<style scoped>\n",
       "    .dataframe tbody tr th:only-of-type {\n",
       "        vertical-align: middle;\n",
       "    }\n",
       "\n",
       "    .dataframe tbody tr th {\n",
       "        vertical-align: top;\n",
       "    }\n",
       "\n",
       "    .dataframe thead th {\n",
       "        text-align: right;\n",
       "    }\n",
       "</style>\n",
       "<table border=\"1\" class=\"dataframe\">\n",
       "  <thead>\n",
       "    <tr style=\"text-align: right;\">\n",
       "      <th></th>\n",
       "      <th>State</th>\n",
       "      <th>Measure Rank</th>\n",
       "    </tr>\n",
       "  </thead>\n",
       "  <tbody>\n",
       "    <tr>\n",
       "      <th>0</th>\n",
       "      <td>MI</td>\n",
       "      <td>6</td>\n",
       "    </tr>\n",
       "    <tr>\n",
       "      <th>1</th>\n",
       "      <td>OH</td>\n",
       "      <td>8</td>\n",
       "    </tr>\n",
       "    <tr>\n",
       "      <th>2</th>\n",
       "      <td>TN</td>\n",
       "      <td>9</td>\n",
       "    </tr>\n",
       "    <tr>\n",
       "      <th>3</th>\n",
       "      <td>MS</td>\n",
       "      <td>9</td>\n",
       "    </tr>\n",
       "    <tr>\n",
       "      <th>4</th>\n",
       "      <td>AL</td>\n",
       "      <td>10</td>\n",
       "    </tr>\n",
       "  </tbody>\n",
       "</table>\n",
       "</div>"
      ],
      "text/plain": [
       "  State  Measure Rank\n",
       "0    MI             6\n",
       "1    OH             8\n",
       "2    TN             9\n",
       "3    MS             9\n",
       "4    AL            10"
      ]
     },
     "execution_count": 28,
     "metadata": {},
     "output_type": "execute_result"
    }
   ],
   "source": [
    "outcomes_rank.head()"
   ]
  },
  {
   "cell_type": "code",
   "execution_count": 29,
   "metadata": {},
   "outputs": [],
   "source": [
    "def true_rank(category_rank):\n",
    "    out = pd.DataFrame(index=range(1, 52), columns= ['Rank'])\n",
    "    for i in range(0, 51):\n",
    "        out.iloc[i, 0] = (category_rank['State'][i])\n",
    "    return out\n",
    "def pretty_rank(true_rank):\n",
    "    series = pd.Series(range(1, 52))\n",
    "    rank_df = pd.DataFrame(index = true_rank.iloc[:, 0], columns=['Rank Value'])\n",
    "    rank_df['Rank Value'] = series.values\n",
    "    return rank_df"
   ]
  },
  {
   "cell_type": "code",
   "execution_count": 30,
   "metadata": {},
   "outputs": [],
   "source": [
    "prevent_pretty_rank = pretty_rank(true_rank(prevent_rank))\n",
    "unhealthy_pretty_rank = pretty_rank(true_rank(unhealthy_rank))\n",
    "outcomes_pretty_rank = pretty_rank(true_rank(outcomes_rank))"
   ]
  },
  {
   "cell_type": "code",
   "execution_count": 31,
   "metadata": {},
   "outputs": [
    {
     "data": {
      "text/html": [
       "<div>\n",
       "<style scoped>\n",
       "    .dataframe tbody tr th:only-of-type {\n",
       "        vertical-align: middle;\n",
       "    }\n",
       "\n",
       "    .dataframe tbody tr th {\n",
       "        vertical-align: top;\n",
       "    }\n",
       "\n",
       "    .dataframe thead th {\n",
       "        text-align: right;\n",
       "    }\n",
       "</style>\n",
       "<table border=\"1\" class=\"dataframe\">\n",
       "  <thead>\n",
       "    <tr style=\"text-align: right;\">\n",
       "      <th></th>\n",
       "      <th>Rank Value</th>\n",
       "    </tr>\n",
       "    <tr>\n",
       "      <th>Rank</th>\n",
       "      <th></th>\n",
       "    </tr>\n",
       "  </thead>\n",
       "  <tbody>\n",
       "    <tr>\n",
       "      <th>VA</th>\n",
       "      <td>1</td>\n",
       "    </tr>\n",
       "    <tr>\n",
       "      <th>WV</th>\n",
       "      <td>2</td>\n",
       "    </tr>\n",
       "    <tr>\n",
       "      <th>NC</th>\n",
       "      <td>3</td>\n",
       "    </tr>\n",
       "    <tr>\n",
       "      <th>AL</th>\n",
       "      <td>4</td>\n",
       "    </tr>\n",
       "    <tr>\n",
       "      <th>KY</th>\n",
       "      <td>5</td>\n",
       "    </tr>\n",
       "  </tbody>\n",
       "</table>\n",
       "</div>"
      ],
      "text/plain": [
       "      Rank Value\n",
       "Rank            \n",
       "VA             1\n",
       "WV             2\n",
       "NC             3\n",
       "AL             4\n",
       "KY             5"
      ]
     },
     "execution_count": 31,
     "metadata": {},
     "output_type": "execute_result"
    }
   ],
   "source": [
    "prevent_pretty_rank.head()"
   ]
  },
  {
   "cell_type": "code",
   "execution_count": 32,
   "metadata": {},
   "outputs": [
    {
     "ename": "NameError",
     "evalue": "name 'tls' is not defined",
     "output_type": "error",
     "traceback": [
      "\u001b[1;31m---------------------------------------------------------------------------\u001b[0m",
      "\u001b[1;31mNameError\u001b[0m                                 Traceback (most recent call last)",
      "\u001b[1;32m<ipython-input-32-cdccf7f0e9a9>\u001b[0m in \u001b[0;36m<module>\u001b[1;34m\u001b[0m\n\u001b[1;32m----> 1\u001b[1;33m \u001b[0mtls\u001b[0m\u001b[1;33m.\u001b[0m\u001b[0mset_credentials_file\u001b[0m\u001b[1;33m(\u001b[0m\u001b[0musername\u001b[0m\u001b[1;33m=\u001b[0m\u001b[1;34m'AhsanNisar1'\u001b[0m\u001b[1;33m,\u001b[0m\u001b[0mapi_key\u001b[0m\u001b[1;33m=\u001b[0m\u001b[1;34m'erOR98WysTOrkYAMhDXq'\u001b[0m\u001b[1;33m)\u001b[0m\u001b[1;33m\u001b[0m\u001b[1;33m\u001b[0m\u001b[0m\n\u001b[0m\u001b[0;32m      2\u001b[0m scl = [\n\u001b[0;32m      3\u001b[0m     \u001b[1;33m[\u001b[0m\u001b[1;36m0.0\u001b[0m\u001b[1;33m,\u001b[0m \u001b[1;34m'rgb(242,240,247)'\u001b[0m\u001b[1;33m]\u001b[0m\u001b[1;33m,\u001b[0m\u001b[1;33m\u001b[0m\u001b[1;33m\u001b[0m\u001b[0m\n\u001b[0;32m      4\u001b[0m     \u001b[1;33m[\u001b[0m\u001b[1;36m0.2\u001b[0m\u001b[1;33m,\u001b[0m \u001b[1;34m'rgb(218,218,235)'\u001b[0m\u001b[1;33m]\u001b[0m\u001b[1;33m,\u001b[0m\u001b[1;33m\u001b[0m\u001b[1;33m\u001b[0m\u001b[0m\n\u001b[0;32m      5\u001b[0m     \u001b[1;33m[\u001b[0m\u001b[1;36m0.4\u001b[0m\u001b[1;33m,\u001b[0m \u001b[1;34m'rgb(188,189,220)'\u001b[0m\u001b[1;33m]\u001b[0m\u001b[1;33m,\u001b[0m\u001b[1;33m\u001b[0m\u001b[1;33m\u001b[0m\u001b[0m\n",
      "\u001b[1;31mNameError\u001b[0m: name 'tls' is not defined"
     ]
    }
   ],
   "source": [
    "tls.set_credentials_file(username='AhsanNisar1',api_key='erOR98WysTOrkYAMhDXq')\n",
    "scl = [\n",
    "    [0.0, 'rgb(242,240,247)'],\n",
    "    [0.2, 'rgb(218,218,235)'],\n",
    "    [0.4, 'rgb(188,189,220)'],\n",
    "    [0.6, 'rgb(158,154,200)'],\n",
    "    [0.8, 'rgb(117,107,177)'],\n",
    "    [1.0, 'rgb(84,39,143)']\n",
    "]\n",
    "\n",
    "data = [go.Choropleth(\n",
    "    colorscale = scl,\n",
    "    autocolorscale = False,\n",
    "    locations = prevent_pretty_rank.index,\n",
    "    z = prevent_pretty_rank['Rank Value'].astype(float),\n",
    "    locationmode = 'USA-states',\n",
    "    marker = go.choropleth.Marker(\n",
    "        line = go.choropleth.marker.Line(\n",
    "            color = 'rgb(255,255,255)',\n",
    "            width = 2\n",
    "        )),\n",
    "    colorbar = go.choropleth.ColorBar(\n",
    "        title = \"Rank\")\n",
    ")]\n",
    "\n",
    "layout = go.Layout(\n",
    "    title = go.layout.Title(\n",
    "        text = 'US States ranking by Prevention category '\n",
    "    ),\n",
    "    geo = go.layout.Geo(\n",
    "        scope = 'usa',\n",
    "        projection = go.layout.geo.Projection(type = 'albers usa'),\n",
    "        showlakes = True,\n",
    "        lakecolor = 'rgb(255, 255, 255)'),\n",
    ")\n",
    "\n",
    "fig = go.Figure(data = data, layout = layout)\n",
    "py.iplot(fig, filename = 'd3-cloropleth-map')"
   ]
  },
  {
   "cell_type": "code",
   "execution_count": 33,
   "metadata": {},
   "outputs": [
    {
     "data": {
      "text/html": [
       "<div>\n",
       "<style scoped>\n",
       "    .dataframe tbody tr th:only-of-type {\n",
       "        vertical-align: middle;\n",
       "    }\n",
       "\n",
       "    .dataframe tbody tr th {\n",
       "        vertical-align: top;\n",
       "    }\n",
       "\n",
       "    .dataframe thead th {\n",
       "        text-align: right;\n",
       "    }\n",
       "</style>\n",
       "<table border=\"1\" class=\"dataframe\">\n",
       "  <thead>\n",
       "    <tr style=\"text-align: right;\">\n",
       "      <th></th>\n",
       "      <th>Rank Value</th>\n",
       "    </tr>\n",
       "    <tr>\n",
       "      <th>Rank</th>\n",
       "      <th></th>\n",
       "    </tr>\n",
       "  </thead>\n",
       "  <tbody>\n",
       "    <tr>\n",
       "      <th>MI</th>\n",
       "      <td>1</td>\n",
       "    </tr>\n",
       "    <tr>\n",
       "      <th>OH</th>\n",
       "      <td>2</td>\n",
       "    </tr>\n",
       "    <tr>\n",
       "      <th>DE</th>\n",
       "      <td>3</td>\n",
       "    </tr>\n",
       "    <tr>\n",
       "      <th>PA</th>\n",
       "      <td>4</td>\n",
       "    </tr>\n",
       "    <tr>\n",
       "      <th>MD</th>\n",
       "      <td>5</td>\n",
       "    </tr>\n",
       "  </tbody>\n",
       "</table>\n",
       "</div>"
      ],
      "text/plain": [
       "      Rank Value\n",
       "Rank            \n",
       "MI             1\n",
       "OH             2\n",
       "DE             3\n",
       "PA             4\n",
       "MD             5"
      ]
     },
     "execution_count": 33,
     "metadata": {},
     "output_type": "execute_result"
    }
   ],
   "source": [
    "unhealthy_pretty_rank.head()"
   ]
  },
  {
   "cell_type": "code",
   "execution_count": 34,
   "metadata": {},
   "outputs": [
    {
     "ename": "NameError",
     "evalue": "name 'tls' is not defined",
     "output_type": "error",
     "traceback": [
      "\u001b[1;31m---------------------------------------------------------------------------\u001b[0m",
      "\u001b[1;31mNameError\u001b[0m                                 Traceback (most recent call last)",
      "\u001b[1;32m<ipython-input-34-4fe054cb7494>\u001b[0m in \u001b[0;36m<module>\u001b[1;34m\u001b[0m\n\u001b[1;32m----> 1\u001b[1;33m \u001b[0mtls\u001b[0m\u001b[1;33m.\u001b[0m\u001b[0mset_credentials_file\u001b[0m\u001b[1;33m(\u001b[0m\u001b[0musername\u001b[0m\u001b[1;33m=\u001b[0m\u001b[1;34m'AhsanNisar1'\u001b[0m\u001b[1;33m,\u001b[0m\u001b[0mapi_key\u001b[0m\u001b[1;33m=\u001b[0m\u001b[1;34m'erOR98WysTOrkYAMhDXq'\u001b[0m\u001b[1;33m)\u001b[0m\u001b[1;33m\u001b[0m\u001b[1;33m\u001b[0m\u001b[0m\n\u001b[0m\u001b[0;32m      2\u001b[0m scl = [\n\u001b[0;32m      3\u001b[0m     \u001b[1;33m[\u001b[0m\u001b[1;36m0.0\u001b[0m\u001b[1;33m,\u001b[0m \u001b[1;34m'rgb(242,240,247)'\u001b[0m\u001b[1;33m]\u001b[0m\u001b[1;33m,\u001b[0m\u001b[1;33m\u001b[0m\u001b[1;33m\u001b[0m\u001b[0m\n\u001b[0;32m      4\u001b[0m     \u001b[1;33m[\u001b[0m\u001b[1;36m0.2\u001b[0m\u001b[1;33m,\u001b[0m \u001b[1;34m'rgb(218,218,235)'\u001b[0m\u001b[1;33m]\u001b[0m\u001b[1;33m,\u001b[0m\u001b[1;33m\u001b[0m\u001b[1;33m\u001b[0m\u001b[0m\n\u001b[0;32m      5\u001b[0m     \u001b[1;33m[\u001b[0m\u001b[1;36m0.4\u001b[0m\u001b[1;33m,\u001b[0m \u001b[1;34m'rgb(188,189,220)'\u001b[0m\u001b[1;33m]\u001b[0m\u001b[1;33m,\u001b[0m\u001b[1;33m\u001b[0m\u001b[1;33m\u001b[0m\u001b[0m\n",
      "\u001b[1;31mNameError\u001b[0m: name 'tls' is not defined"
     ]
    }
   ],
   "source": [
    "tls.set_credentials_file(username='AhsanNisar1',api_key='erOR98WysTOrkYAMhDXq')\n",
    "scl = [\n",
    "    [0.0, 'rgb(242,240,247)'],\n",
    "    [0.2, 'rgb(218,218,235)'],\n",
    "    [0.4, 'rgb(188,189,220)'],\n",
    "    [0.6, 'rgb(158,154,200)'],\n",
    "    [0.8, 'rgb(117,107,177)'],\n",
    "    [1.0, 'rgb(84,39,143)']\n",
    "]\n",
    "\n",
    "data = [go.Choropleth(\n",
    "    colorscale = scl,\n",
    "    autocolorscale = False,\n",
    "    locations = unhealthy_pretty_rank.index,\n",
    "    z = unhealthy_pretty_rank['Rank Value'].astype(float),\n",
    "    locationmode = 'USA-states',\n",
    "    marker = go.choropleth.Marker(\n",
    "        line = go.choropleth.marker.Line(\n",
    "            color = 'rgb(255,255,255)',\n",
    "            width = 2\n",
    "        )),\n",
    "    colorbar = go.choropleth.ColorBar(\n",
    "        title = \"Rank\")\n",
    ")]\n",
    "\n",
    "layout = go.Layout(\n",
    "    title = go.layout.Title(\n",
    "        text = 'US States ranking by Unhealthy category '\n",
    "    ),\n",
    "    geo = go.layout.Geo(\n",
    "        scope = 'usa',\n",
    "        projection = go.layout.geo.Projection(type = 'albers usa'),\n",
    "        showlakes = True,\n",
    "        lakecolor = 'rgb(255, 255, 255)'),\n",
    ")\n",
    "\n",
    "fig = go.Figure(data = data, layout = layout)\n",
    "py.iplot(fig, filename = 'd3-cloropleth-map')"
   ]
  },
  {
   "cell_type": "code",
   "execution_count": 35,
   "metadata": {},
   "outputs": [
    {
     "data": {
      "text/html": [
       "<div>\n",
       "<style scoped>\n",
       "    .dataframe tbody tr th:only-of-type {\n",
       "        vertical-align: middle;\n",
       "    }\n",
       "\n",
       "    .dataframe tbody tr th {\n",
       "        vertical-align: top;\n",
       "    }\n",
       "\n",
       "    .dataframe thead th {\n",
       "        text-align: right;\n",
       "    }\n",
       "</style>\n",
       "<table border=\"1\" class=\"dataframe\">\n",
       "  <thead>\n",
       "    <tr style=\"text-align: right;\">\n",
       "      <th></th>\n",
       "      <th>Rank Value</th>\n",
       "    </tr>\n",
       "    <tr>\n",
       "      <th>Rank</th>\n",
       "      <th></th>\n",
       "    </tr>\n",
       "  </thead>\n",
       "  <tbody>\n",
       "    <tr>\n",
       "      <th>MI</th>\n",
       "      <td>1</td>\n",
       "    </tr>\n",
       "    <tr>\n",
       "      <th>OH</th>\n",
       "      <td>2</td>\n",
       "    </tr>\n",
       "    <tr>\n",
       "      <th>TN</th>\n",
       "      <td>3</td>\n",
       "    </tr>\n",
       "    <tr>\n",
       "      <th>MS</th>\n",
       "      <td>4</td>\n",
       "    </tr>\n",
       "    <tr>\n",
       "      <th>AL</th>\n",
       "      <td>5</td>\n",
       "    </tr>\n",
       "  </tbody>\n",
       "</table>\n",
       "</div>"
      ],
      "text/plain": [
       "      Rank Value\n",
       "Rank            \n",
       "MI             1\n",
       "OH             2\n",
       "TN             3\n",
       "MS             4\n",
       "AL             5"
      ]
     },
     "execution_count": 35,
     "metadata": {},
     "output_type": "execute_result"
    }
   ],
   "source": [
    "outcomes_pretty_rank.head()"
   ]
  },
  {
   "cell_type": "code",
   "execution_count": 36,
   "metadata": {},
   "outputs": [
    {
     "ename": "NameError",
     "evalue": "name 'tls' is not defined",
     "output_type": "error",
     "traceback": [
      "\u001b[1;31m---------------------------------------------------------------------------\u001b[0m",
      "\u001b[1;31mNameError\u001b[0m                                 Traceback (most recent call last)",
      "\u001b[1;32m<ipython-input-36-836d87ccbc13>\u001b[0m in \u001b[0;36m<module>\u001b[1;34m\u001b[0m\n\u001b[1;32m----> 1\u001b[1;33m \u001b[0mtls\u001b[0m\u001b[1;33m.\u001b[0m\u001b[0mset_credentials_file\u001b[0m\u001b[1;33m(\u001b[0m\u001b[0musername\u001b[0m\u001b[1;33m=\u001b[0m\u001b[1;34m'AhsanNisar1'\u001b[0m\u001b[1;33m,\u001b[0m\u001b[0mapi_key\u001b[0m\u001b[1;33m=\u001b[0m\u001b[1;34m'erOR98WysTOrkYAMhDXq'\u001b[0m\u001b[1;33m)\u001b[0m\u001b[1;33m\u001b[0m\u001b[1;33m\u001b[0m\u001b[0m\n\u001b[0m\u001b[0;32m      2\u001b[0m scl = [\n\u001b[0;32m      3\u001b[0m     \u001b[1;33m[\u001b[0m\u001b[1;36m0.0\u001b[0m\u001b[1;33m,\u001b[0m \u001b[1;34m'rgb(242,240,247)'\u001b[0m\u001b[1;33m]\u001b[0m\u001b[1;33m,\u001b[0m\u001b[1;33m\u001b[0m\u001b[1;33m\u001b[0m\u001b[0m\n\u001b[0;32m      4\u001b[0m     \u001b[1;33m[\u001b[0m\u001b[1;36m0.2\u001b[0m\u001b[1;33m,\u001b[0m \u001b[1;34m'rgb(218,218,235)'\u001b[0m\u001b[1;33m]\u001b[0m\u001b[1;33m,\u001b[0m\u001b[1;33m\u001b[0m\u001b[1;33m\u001b[0m\u001b[0m\n\u001b[0;32m      5\u001b[0m     \u001b[1;33m[\u001b[0m\u001b[1;36m0.4\u001b[0m\u001b[1;33m,\u001b[0m \u001b[1;34m'rgb(188,189,220)'\u001b[0m\u001b[1;33m]\u001b[0m\u001b[1;33m,\u001b[0m\u001b[1;33m\u001b[0m\u001b[1;33m\u001b[0m\u001b[0m\n",
      "\u001b[1;31mNameError\u001b[0m: name 'tls' is not defined"
     ]
    }
   ],
   "source": [
    "tls.set_credentials_file(username='AhsanNisar1',api_key='erOR98WysTOrkYAMhDXq')\n",
    "scl = [\n",
    "    [0.0, 'rgb(242,240,247)'],\n",
    "    [0.2, 'rgb(218,218,235)'],\n",
    "    [0.4, 'rgb(188,189,220)'],\n",
    "    [0.6, 'rgb(158,154,200)'],\n",
    "    [0.8, 'rgb(117,107,177)'],\n",
    "    [1.0, 'rgb(84,39,143)']\n",
    "]\n",
    "\n",
    "data = [go.Choropleth(\n",
    "    colorscale = scl,\n",
    "    autocolorscale = False,\n",
    "    locations = outcomes_pretty_rank.index,\n",
    "    z = outcomes_pretty_rank['Rank Value'].astype(float),\n",
    "    locationmode = 'USA-states',\n",
    "    marker = go.choropleth.Marker(\n",
    "        line = go.choropleth.marker.Line(\n",
    "            color = 'rgb(255,255,255)',\n",
    "            width = 2\n",
    "        )),\n",
    "    colorbar = go.choropleth.ColorBar(\n",
    "        title = \"Rank\")\n",
    ")]\n",
    "\n",
    "layout = go.Layout(\n",
    "    title = go.layout.Title(\n",
    "        text = 'US States ranking by Health Outcome'\n",
    "    ),\n",
    "    geo = go.layout.Geo(\n",
    "        scope = 'usa',\n",
    "        projection = go.layout.geo.Projection(type = 'albers usa'),\n",
    "        showlakes = True,\n",
    "        lakecolor = 'rgb(255, 255, 255)'),\n",
    ")\n",
    "\n",
    "fig = go.Figure(data = data, layout = layout)\n",
    "py.iplot(fig, filename = 'd3-cloropleth-map')"
   ]
  },
  {
   "cell_type": "code",
   "execution_count": 37,
   "metadata": {},
   "outputs": [],
   "source": [
    "top_prevent = prevent_pretty_rank.head().index"
   ]
  },
  {
   "cell_type": "code",
   "execution_count": 38,
   "metadata": {},
   "outputs": [],
   "source": [
    "# PREVENT\n",
    "top_prevent = prevent_percent[prevent_percent['MeasureId'] == \"BPMED\"].nlargest(10, 'true_st_percent')\n",
    "bottom_prevent = prevent_percent[prevent_percent['MeasureId'] == \"BPMED\"].nsmallest(0, 'true_st_percent')\n",
    "\n",
    "prevent = top_prevent.append(bottom_prevent)"
   ]
  },
  {
   "cell_type": "code",
   "execution_count": 39,
   "metadata": {},
   "outputs": [],
   "source": [
    "#OUTCOME\n",
    "top_outcome = outcomes_percent[outcomes_percent['MeasureId'] == \"BPHIGH\"].nlargest(10, 'true_st_percent')\n",
    "bottom_outcome = outcomes_percent[outcomes_percent['MeasureId'] == \"BPHIGH\"].nsmallest(0, 'true_st_percent')\n",
    "\n",
    "outcomes = top_outcome.append(bottom_outcome)\n"
   ]
  },
  {
   "cell_type": "code",
   "execution_count": 41,
   "metadata": {},
   "outputs": [],
   "source": [
    "#UNHEALTHY\n",
    "top_unhealthy = unhealthy_percent[unhealthy_percent['MeasureId'] == \"OBESITY\"].nlargest(10, 'true_st_percent')\n",
    "bottom_unhealthy = unhealthy_percent[unhealthy_percent['MeasureId'] == \"OBESITY\"].nsmallest(0, 'true_st_percent')\n",
    "\n",
    "unhealthy = top_unhealthy.append(bottom_unhealthy)\n",
    "out_un_pre = outcomes_prevent.append(unhealthy)"
   ]
  },
  {
   "cell_type": "code",
   "execution_count": 42,
   "metadata": {},
   "outputs": [],
   "source": [
    "#OUTCOMES AND PREVENT\n",
    "outcomes_prevent = outcomes.append(prevent)\n",
    "#OUTCOMES AND UNHEALTHY\n",
    "out_unhealthy = outcomes.append(unhealthy)\n",
    "#PREVENT AND UNHEALTHY\n",
    "prevent_unhealthy = prevent.append(unhealthy)\n",
    "#ALL\n",
    "prev_un_out = prevent_unhealthy.append(outcomes)"
   ]
  },
  {
   "cell_type": "code",
   "execution_count": 47,
   "metadata": {},
   "outputs": [
    {
     "data": {
      "image/png": "[encoded data removed]",
      "text/plain": [
       "<Figure size 848.16x595.44 with 1 Axes>"
      ]
     },
     "metadata": {},
     "output_type": "display_data"
    }
   ],
   "source": [
    "#plot three categories\n",
    "sns.set(rc={'figure.figsize':(11.78, 8.27)})\n",
    "ax = sns.barplot(x=\"StateAbbr\", y=\"true_st_percent\", hue=\"MeasureId\", data=prev_un_out)\n",
    "fig= ax.get_figure()\n",
    "fig.savefig('3_category.png')"
   ]
  },
  {
   "cell_type": "code",
   "execution_count": 48,
   "metadata": {},
   "outputs": [
    {
     "data": {
      "text/html": [
       "<div>\n",
       "<style scoped>\n",
       "    .dataframe tbody tr th:only-of-type {\n",
       "        vertical-align: middle;\n",
       "    }\n",
       "\n",
       "    .dataframe tbody tr th {\n",
       "        vertical-align: top;\n",
       "    }\n",
       "\n",
       "    .dataframe thead th {\n",
       "        text-align: right;\n",
       "    }\n",
       "</style>\n",
       "<table border=\"1\" class=\"dataframe\">\n",
       "  <thead>\n",
       "    <tr style=\"text-align: right;\">\n",
       "      <th></th>\n",
       "      <th>StateAbbr</th>\n",
       "      <th>MeasureId</th>\n",
       "      <th>PopulationCount</th>\n",
       "      <th>Measure_pop</th>\n",
       "      <th>true_st_percent</th>\n",
       "    </tr>\n",
       "  </thead>\n",
       "  <tbody>\n",
       "    <tr>\n",
       "      <th>452</th>\n",
       "      <td>VA</td>\n",
       "      <td>CHECKUP</td>\n",
       "      <td>1918061</td>\n",
       "      <td>1446515</td>\n",
       "      <td>75.415485</td>\n",
       "    </tr>\n",
       "  </tbody>\n",
       "</table>\n",
       "</div>"
      ],
      "text/plain": [
       "    StateAbbr MeasureId  PopulationCount  Measure_pop  true_st_percent\n",
       "452        VA   CHECKUP          1918061      1446515        75.415485"
      ]
     },
     "execution_count": 48,
     "metadata": {},
     "output_type": "execute_result"
    }
   ],
   "source": [
    "top = prevent_percent[prevent_percent['StateAbbr'] == 'VA']\n",
    "top[top['MeasureId'] == 'CHECKUP']"
   ]
  },
  {
   "cell_type": "code",
   "execution_count": 49,
   "metadata": {},
   "outputs": [],
   "source": [
    "#prevent: measure checkup dataframe for barplot\n",
    "healthy_states = list(prevent_pretty_rank.head().index)\n",
    "healthy_top_5  = pd.DataFrame(index=healthy_states, columns=['Healthy'])\n",
    "for state in healthy_states:\n",
    "    top_state = prevent_percent[prevent_percent['StateAbbr'] == state]\n",
    "    healthy = top_state[top_state['MeasureId'] == 'CHECKUP']['true_st_percent']\n",
    "    healthy_top_5.loc[state, 'Healthy'] = float(healthy)"
   ]
  },
  {
   "cell_type": "code",
   "execution_count": 50,
   "metadata": {},
   "outputs": [
    {
     "data": {
      "text/plain": [
       "['VA', 'WV', 'NC', 'AL', 'KY']"
      ]
     },
     "execution_count": 50,
     "metadata": {},
     "output_type": "execute_result"
    }
   ],
   "source": [
    "list(healthy_top_5.index)"
   ]
  },
  {
   "cell_type": "code",
   "execution_count": 51,
   "metadata": {},
   "outputs": [
    {
     "data": {
      "image/png": "[encoded data removed]",
      "text/plain": [
       "<Figure size 848.16x595.44 with 1 Axes>"
      ]
     },
     "metadata": {},
     "output_type": "display_data"
    }
   ],
   "source": [
    "\n",
    "checkups_top_5 = sns.barplot(x=list(healthy_top_5.index),hue=list(healthy_top_5['Healthy']),color='g', y='Healthy', data= healthy_top_5)\n",
    "\n",
    "checkups_top_5.set(title= 'Top Healthy States (Checkup)',xlim = None, ylim=(70,80))\n",
    "checkups_top_5.set(xticks=range(0,5))\n",
    "fig2 = checkups_top_5.get_figure()\n",
    "fig2.savefig('Checkup.png')"
   ]
  },
  {
   "cell_type": "code",
   "execution_count": 53,
   "metadata": {},
   "outputs": [],
   "source": [
    "unhealthy_states = list(unhealthy_pretty_rank.head().index)\n",
    "unhealthy_top_5  = pd.DataFrame(index=unhealthy_states, columns=['Binge', 'Obesity'])\n",
    "for state in unhealthy_states:\n",
    "    top_unhealthy_state = unhealthy_percent[unhealthy_percent['StateAbbr'] == state]\n",
    "    unhealthy_BINGE = top_unhealthy_state[top_unhealthy_state['MeasureId'] == 'BINGE']['true_st_percent']\n",
    "    unhealthy_OBESITY = top_unhealthy_state[top_unhealthy_state['MeasureId'] == 'OBESITY']['true_st_percent']\n",
    "    unhealthy_top_5.loc[state, 'Binge'] = float(unhealthy_BINGE)\n",
    "    unhealthy_top_5.loc[state, 'Obesity'] = float(unhealthy_OBESITY)"
   ]
  },
  {
   "cell_type": "code",
   "execution_count": 54,
   "metadata": {},
   "outputs": [
    {
     "data": {
      "text/plain": [
       "Index(['Binge', 'Obesity'], dtype='object')"
      ]
     },
     "execution_count": 54,
     "metadata": {},
     "output_type": "execute_result"
    }
   ],
   "source": [
    "unhealthy_top_5.columns"
   ]
  },
  {
   "cell_type": "code",
   "execution_count": 56,
   "metadata": {},
   "outputs": [
    {
     "data": {
      "image/png": "[encoded data removed]",
      "text/plain": [
       "<Figure size 848.16x595.44 with 1 Axes>"
      ]
     },
     "metadata": {},
     "output_type": "display_data"
    }
   ],
   "source": [
    "import matplotlib.pyplot as plt\n",
    "binge_top_5 = sns.barplot(x=list(unhealthy_top_5.index), y='Binge', data= unhealthy_top_5)\n",
    "binge_top_5.set(title= 'Top Unhealthy States (Binge)',xlim = None, ylim=(12,22), xlabel='States', ylabel=\"% Binge Drinkers\")\n",
    "fig3 = binge_top_5.get_figure()\n",
    "fig3.savefig('Binge_top_5')"
   ]
  },
  {
   "cell_type": "code",
   "execution_count": 60,
   "metadata": {},
   "outputs": [
    {
     "data": {
      "image/png": "[encoded data removed]",
      "text/plain": [
       "<Figure size 848.16x595.44 with 1 Axes>"
      ]
     },
     "metadata": {},
     "output_type": "display_data"
    }
   ],
   "source": [
    "obesity_top_5 = sns.barplot(x=list(unhealthy_top_5.index), y='Obesity', data= unhealthy_top_5)\n",
    "obesity_top_5.set(title='Top Unhealthy States (Obesity)', xlim = None, ylim=(30,40),xlabel='States', ylabel=\"% Obese\")\n",
    "fig4 = obesity_top_5.get_figure()\n",
    "fig4.savefig('Obesity_top_5')"
   ]
  },
  {
   "cell_type": "code",
   "execution_count": 189,
   "metadata": {},
   "outputs": [
    {
     "data": {
      "text/plain": [
       "array([75.41548470043445, 79.19844357976655, 74.93615268040821,\n",
       "       74.27452906027531, 75.53239133842399], dtype=object)"
      ]
     },
     "execution_count": 189,
     "metadata": {},
     "output_type": "execute_result"
    }
   ],
   "source": [
    "np.array(healthy_top_5['Healthy'])"
   ]
  },
  {
   "cell_type": "code",
   "execution_count": 228,
   "metadata": {},
   "outputs": [
    {
     "data": {
      "text/plain": [
       "array(['Binge drinking among adults aged >=18 Years',\n",
       "       'Current smoking among adults aged >=18 Years',\n",
       "       'No leisure-time physical activity among adults aged >=18 Years',\n",
       "       'Obesity among adults aged >=18 Years',\n",
       "       'Sleeping less than 7 hours among adults aged >=18 Years'],\n",
       "      dtype=object)"
      ]
     },
     "execution_count": 228,
     "metadata": {},
     "output_type": "execute_result"
    }
   ],
   "source": [
    "unhealthy_state_df['Measure'].unique()"
   ]
  },
  {
   "cell_type": "markdown",
   "metadata": {},
   "source": [
    "# Conclusion\n"
   ]
  },
  {
   "cell_type": "code",
   "execution_count": null,
   "metadata": {},
   "outputs": [],
   "source": [
    "Our conclusions show that Michigan has the most uhealthy beahaviors by metropolitian population percentage and the most diseased population. \n",
    "Our hypothesis was proven wrong, kindof, California tended toward the healthiest and least diseased, while Mississipi trended toward more unhealthy and more diseased. \n",
    "\n",
    "\n"
   ]
  },
  {
   "cell_type": "code",
   "execution_count": 7,
   "metadata": {},
   "outputs": [
    {
     "name": "stdout",
     "output_type": "stream",
     "text": [
      "Collecting plotly\n",
      "  Could not fetch URL https://pypi.org/simple/plotly/: There was a problem confirming the ssl certificate: HTTPSConnectionPool(host='pypi.org', port=443): Max retries exceeded with url: /simple/plotly/ (Caused by SSLError(\"Can't connect to HTTPS URL because the SSL module is not available.\")) - skipping\n",
      "Could not fetch URL https://pypi.org/simple/pip/: There was a problem confirming the ssl certificate: HTTPSConnectionPool(host='pypi.org', port=443): Max retries exceeded with url: /simple/pip/ (Caused by SSLError(\"Can't connect to HTTPS URL because the SSL module is not available.\")) - skipping\n"
     ]
    },
    {
     "name": "stderr",
     "output_type": "stream",
     "text": [
      "pip is configured with locations that require TLS/SSL, however the ssl module in Python is not available.\n",
      "  Retrying (Retry(total=4, connect=None, read=None, redirect=None, status=None)) after connection broken by 'SSLError(\"Can't connect to HTTPS URL because the SSL module is not available.\")': /simple/plotly/\n",
      "  Retrying (Retry(total=3, connect=None, read=None, redirect=None, status=None)) after connection broken by 'SSLError(\"Can't connect to HTTPS URL because the SSL module is not available.\")': /simple/plotly/\n",
      "  Retrying (Retry(total=2, connect=None, read=None, redirect=None, status=None)) after connection broken by 'SSLError(\"Can't connect to HTTPS URL because the SSL module is not available.\")': /simple/plotly/\n",
      "  Retrying (Retry(total=1, connect=None, read=None, redirect=None, status=None)) after connection broken by 'SSLError(\"Can't connect to HTTPS URL because the SSL module is not available.\")': /simple/plotly/\n",
      "  Retrying (Retry(total=0, connect=None, read=None, redirect=None, status=None)) after connection broken by 'SSLError(\"Can't connect to HTTPS URL because the SSL module is not available.\")': /simple/plotly/\n",
      "  Could not find a version that satisfies the requirement plotly (from versions: )\n",
      "No matching distribution found for plotly\n",
      "pip is configured with locations that require TLS/SSL, however the ssl module in Python is not available.\n"
     ]
    }
   ],
   "source": [
    "!pip install plotly"
   ]
  },
  {
   "cell_type": "code",
   "execution_count": null,
   "metadata": {},
   "outputs": [],
   "source": []
  }
 ],
 "metadata": {
  "kernelspec": {
   "display_name": "Python 3",
   "language": "python",
   "name": "python3"
  },
  "language_info": {
   "codemirror_mode": {
    "name": "ipython",
    "version": 3
   },
   "file_extension": ".py",
   "mimetype": "text/x-python",
   "name": "python",
   "nbconvert_exporter": "python",
   "pygments_lexer": "ipython3",
   "version": "3.7.1"
  }
 },
 "nbformat": 4,
 "nbformat_minor": 2
}
