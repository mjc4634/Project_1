{
 "cells": [
  {
   "cell_type": "code",
   "execution_count": 1,
   "metadata": {},
   "outputs": [
    {
     "name": "stdout",
     "output_type": "stream",
     "text": [
      "/c/Users/Mason Carnahan/Documents/Bootcamp/Project_1/Project_1\n"
     ]
    }
   ],
   "source": [
    "import pandas as pd\n",
    "!pwd"
   ]
  },
  {
   "cell_type": "code",
   "execution_count": 2,
   "metadata": {},
   "outputs": [],
   "source": [
    "import pandas as pd\n",
    "import os \n",
    "from matplotlib import pyplot as plt\n",
    "import numpy as np\n",
    "\n",
    "\n",
    "\n",
    "#Decide what columns we need\n",
    "A_csv = pd.read_csv('xaa.csv')\n",
    "B_csv = pd.read_csv('xab.csv', header=None)\n",
    "C_csv = pd.read_csv('xac.csv', header=None)\n",
    "D_csv = pd.read_csv('xad.csv', header=None)\n",
    "#Add correct index to split csv\n",
    "B_csv.columns = A_csv.columns\n",
    "C_csv.columns = A_csv.columns\n",
    "D_csv.columns = A_csv.columns\n",
    "#Merging\n",
    "AB_csv = pd.merge(A_csv, B_csv,how='outer')\n",
    "\n",
    "ABC_csv = pd.merge(AB_csv, C_csv,how='outer')\n",
    "\n",
    "ABCD_csv = pd.merge(ABC_csv, D_csv,how='outer')\n",
    "\n",
    "master_df = ABCD_csv"
   ]
  },
  {
   "cell_type": "code",
   "execution_count": 3,
   "metadata": {},
   "outputs": [],
   "source": [
    "#Function to change GeoLoc value\n",
    "def geo_switch(geo):\n",
    "    try:\n",
    "        [lat, long] = str(geo[0])[1:-1].split(',')\n",
    "    except TypeError:\n",
    "        [lat, long] = ['NaN', 'NaN']\n",
    "    except ValueError:\n",
    "        [lat, long] = str(geo)[1:-1].split(',')\n",
    "    \n",
    "    \n",
    "    return [lat, long]"
   ]
  },
  {
   "cell_type": "code",
   "execution_count": 5,
   "metadata": {},
   "outputs": [],
   "source": [
    "#change the master_df using apply\n",
    "master_df['GeoLocation'] = master_df['GeoLocation'].apply(lambda x: geo_switch(x))"
   ]
  },
  {
   "cell_type": "code",
   "execution_count": null,
   "metadata": {},
   "outputs": [],
   "source": []
  },
  {
   "cell_type": "code",
   "execution_count": 7,
   "metadata": {},
   "outputs": [],
   "source": [
    "#unique list of categories and states\n",
    "cat_id = master_df['Category'].unique()\n",
    "states = master_df['StateAbbr'].unique()\n",
    "#dictionary to hold your data\n",
    "df_dict = {}\n",
    "\n",
    "#index through to grab dataframe for each category\n",
    "for index in cat_id:\n",
    "    category_group = master_df[master_df['Category'] == index]\n",
    "#get category info for each state        \n",
    "    for state in states:\n",
    "        state_group =  category_group[category_group['StateAbbr'] == state]\n",
    "#create keys for the df_dict and values for each state\n",
    "        df_dict[index+' '+ state] = state_group"
   ]
  },
  {
   "cell_type": "code",
   "execution_count": 8,
   "metadata": {},
   "outputs": [],
   "source": [
    "#Prevention dictionary for all states\n",
    "prevent_dict = {}\n",
    "for state in states:\n",
    "#make keys the state abbr\n",
    "    prevent_dict[state] = (df_dict.get('Prevention'+' '+state))"
   ]
  },
  {
   "cell_type": "code",
   "execution_count": 9,
   "metadata": {},
   "outputs": [],
   "source": [
    "#Unhealthy dictionary for all states\n",
    "unhealthy_dict = {}\n",
    "for state in states: \n",
    "#make keys the state abbr\n",
    "    unhealthy_dict[state] = (df_dict.get('Unhealthy Behaviors'+' '+state))"
   ]
  },
  {
   "cell_type": "code",
   "execution_count": 10,
   "metadata": {},
   "outputs": [],
   "source": [
    "#Outcomes dictionary for all states\n",
    "outcomes_dict = {}\n",
    "for state in states:\n",
    "#make keys the state abbr\n",
    "    outcomes_dict[state] = (df_dict.get('Health Outcomes'+' '+state))"
   ]
  },
  {
   "cell_type": "code",
   "execution_count": null,
   "metadata": {},
   "outputs": [],
   "source": []
  }
 ],
 "metadata": {
  "kernelspec": {
   "display_name": "Python 3",
   "language": "python",
   "name": "python3"
  },
  "language_info": {
   "codemirror_mode": {
    "name": "ipython",
    "version": 3
   },
   "file_extension": ".py",
   "mimetype": "text/x-python",
   "name": "python",
   "nbconvert_exporter": "python",
   "pygments_lexer": "ipython3",
   "version": "3.6.7"
  }
 },
 "nbformat": 4,
 "nbformat_minor": 2
}
