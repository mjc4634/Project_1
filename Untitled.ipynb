{
 "cells": [
  {
   "cell_type": "code",
   "execution_count": 1,
   "metadata": {},
   "outputs": [],
   "source": [
    "import plotly.plotly as py\n",
    "import plotly.graph_objs as go"
   ]
  },
  {
   "cell_type": "code",
   "execution_count": 2,
   "metadata": {},
   "outputs": [
    {
     "name": "stdout",
     "output_type": "stream",
     "text": [
      "Solving environment: ...working... failed\n"
     ]
    },
    {
     "name": "stderr",
     "output_type": "stream",
     "text": [
      "\n",
      "CondaUpgradeError: This environment has previously been operated on by a conda version that's newer\n",
      "than the conda currently being used. A newer version of conda is required.\n",
      "  target environment location: C:\\Users\\ahsanmuh\\AppData\\Local\\Continuum\\anaconda3\\envs\\PythonData\n",
      "  current conda version: 4.5.12\n",
      "  minimum conda version: 4.6\n",
      "\n",
      "\n"
     ]
    }
   ],
   "source": [
    "!conda install seaborn\n"
   ]
  },
  {
   "cell_type": "code",
   "execution_count": 3,
   "metadata": {},
   "outputs": [
    {
     "name": "stdout",
     "output_type": "stream",
     "text": [
      "Looking in indexes: https://intelpypi.pdx.intel.com/\n",
      "Requirement already satisfied: seaborn in c:\\users\\ahsanmuh\\appdata\\local\\continuum\\anaconda3\\envs\\pythondata\\lib\\site-packages (0.9.0)\n",
      "Requirement already satisfied: scipy>=0.14.0 in c:\\users\\ahsanmuh\\appdata\\local\\continuum\\anaconda3\\envs\\pythondata\\lib\\site-packages (from seaborn) (1.1.0)\n",
      "Requirement already satisfied: matplotlib>=1.4.3 in c:\\users\\ahsanmuh\\appdata\\local\\continuum\\anaconda3\\envs\\pythondata\\lib\\site-packages (from seaborn) (3.0.2)\n",
      "Requirement already satisfied: pandas>=0.15.2 in c:\\users\\ahsanmuh\\appdata\\local\\continuum\\anaconda3\\envs\\pythondata\\lib\\site-packages (from seaborn) (0.23.4)\n",
      "Requirement already satisfied: numpy>=1.9.3 in c:\\users\\ahsanmuh\\appdata\\local\\continuum\\anaconda3\\envs\\pythondata\\lib\\site-packages (from seaborn) (1.15.4)\n",
      "Requirement already satisfied: cycler>=0.10 in c:\\users\\ahsanmuh\\appdata\\local\\continuum\\anaconda3\\envs\\pythondata\\lib\\site-packages (from matplotlib>=1.4.3->seaborn) (0.10.0)\n",
      "Requirement already satisfied: kiwisolver>=1.0.1 in c:\\users\\ahsanmuh\\appdata\\local\\continuum\\anaconda3\\envs\\pythondata\\lib\\site-packages (from matplotlib>=1.4.3->seaborn) (1.0.1)\n",
      "Requirement already satisfied: pyparsing!=2.0.4,!=2.1.2,!=2.1.6,>=2.0.1 in c:\\users\\ahsanmuh\\appdata\\local\\continuum\\anaconda3\\envs\\pythondata\\lib\\site-packages (from matplotlib>=1.4.3->seaborn) (2.3.0)\n",
      "Requirement already satisfied: python-dateutil>=2.1 in c:\\users\\ahsanmuh\\appdata\\local\\continuum\\anaconda3\\envs\\pythondata\\lib\\site-packages (from matplotlib>=1.4.3->seaborn) (2.7.5)\n",
      "Requirement already satisfied: pytz>=2011k in c:\\users\\ahsanmuh\\appdata\\local\\continuum\\anaconda3\\envs\\pythondata\\lib\\site-packages (from pandas>=0.15.2->seaborn) (2018.7)\n",
      "Requirement already satisfied: six in c:\\users\\ahsanmuh\\appdata\\local\\continuum\\anaconda3\\envs\\pythondata\\lib\\site-packages (from cycler>=0.10->matplotlib>=1.4.3->seaborn) (1.12.0)\n",
      "Requirement already satisfied: setuptools in c:\\users\\ahsanmuh\\appdata\\local\\continuum\\anaconda3\\envs\\pythondata\\lib\\site-packages (from kiwisolver>=1.0.1->matplotlib>=1.4.3->seaborn) (40.6.3)\n"
     ]
    }
   ],
   "source": [
    "!pip install seaborn"
   ]
  },
  {
   "cell_type": "code",
   "execution_count": 4,
   "metadata": {},
   "outputs": [],
   "source": [
    "import seaborn as sn"
   ]
  },
  {
   "cell_type": "code",
   "execution_count": null,
   "metadata": {},
   "outputs": [],
   "source": []
  }
 ],
 "metadata": {
  "kernelspec": {
   "display_name": "Python 3",
   "language": "python",
   "name": "python3"
  },
  "language_info": {
   "codemirror_mode": {
    "name": "ipython",
    "version": 3
   },
   "file_extension": ".py",
   "mimetype": "text/x-python",
   "name": "python",
   "nbconvert_exporter": "python",
   "pygments_lexer": "ipython3",
   "version": "3.6.7"
  }
 },
 "nbformat": 4,
 "nbformat_minor": 2
}
